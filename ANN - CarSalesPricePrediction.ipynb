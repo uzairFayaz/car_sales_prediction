{
 "cells": [
  {
   "cell_type": "code",
   "execution_count": 108,
   "id": "cd1921a6",
   "metadata": {},
   "outputs": [],
   "source": [
    "#import the libraries \n",
    "import pandas as pd\n",
    "import numpy as np\n",
    "\n",
    "from matplotlib import pyplot as plt\n",
    "import warnings\n",
    "warnings.filterwarnings('ignore')"
   ]
  },
  {
   "cell_type": "code",
   "execution_count": 109,
   "id": "3ec005c9",
   "metadata": {},
   "outputs": [],
   "source": [
    "#import the dataset\n",
    "data=pd.read_csv(\"car_purchasing.csv\",encoding='latin1')"
   ]
  },
  {
   "cell_type": "code",
   "execution_count": 110,
   "id": "c13732c7",
   "metadata": {},
   "outputs": [
    {
     "data": {
      "text/html": [
       "<div>\n",
       "<style scoped>\n",
       "    .dataframe tbody tr th:only-of-type {\n",
       "        vertical-align: middle;\n",
       "    }\n",
       "\n",
       "    .dataframe tbody tr th {\n",
       "        vertical-align: top;\n",
       "    }\n",
       "\n",
       "    .dataframe thead th {\n",
       "        text-align: right;\n",
       "    }\n",
       "</style>\n",
       "<table border=\"1\" class=\"dataframe\">\n",
       "  <thead>\n",
       "    <tr style=\"text-align: right;\">\n",
       "      <th></th>\n",
       "      <th>customer name</th>\n",
       "      <th>customer e-mail</th>\n",
       "      <th>country</th>\n",
       "      <th>gender</th>\n",
       "      <th>age</th>\n",
       "      <th>annual Salary</th>\n",
       "      <th>credit card debt</th>\n",
       "      <th>net worth</th>\n",
       "      <th>car purchase amount</th>\n",
       "    </tr>\n",
       "  </thead>\n",
       "  <tbody>\n",
       "    <tr>\n",
       "      <th>0</th>\n",
       "      <td>Martina Avila</td>\n",
       "      <td>cubilia.Curae.Phasellus@quisaccumsanconvallis.edu</td>\n",
       "      <td>Bulgaria</td>\n",
       "      <td>0</td>\n",
       "      <td>41.851720</td>\n",
       "      <td>62812.09301</td>\n",
       "      <td>11609.380910</td>\n",
       "      <td>238961.2505</td>\n",
       "      <td>35321.45877</td>\n",
       "    </tr>\n",
       "    <tr>\n",
       "      <th>1</th>\n",
       "      <td>Harlan Barnes</td>\n",
       "      <td>eu.dolor@diam.co.uk</td>\n",
       "      <td>Belize</td>\n",
       "      <td>0</td>\n",
       "      <td>40.870623</td>\n",
       "      <td>66646.89292</td>\n",
       "      <td>9572.957136</td>\n",
       "      <td>530973.9078</td>\n",
       "      <td>45115.52566</td>\n",
       "    </tr>\n",
       "    <tr>\n",
       "      <th>2</th>\n",
       "      <td>Naomi Rodriquez</td>\n",
       "      <td>vulputate.mauris.sagittis@ametconsectetueradip...</td>\n",
       "      <td>Algeria</td>\n",
       "      <td>1</td>\n",
       "      <td>43.152897</td>\n",
       "      <td>53798.55112</td>\n",
       "      <td>11160.355060</td>\n",
       "      <td>638467.1773</td>\n",
       "      <td>42925.70921</td>\n",
       "    </tr>\n",
       "    <tr>\n",
       "      <th>3</th>\n",
       "      <td>Jade Cunningham</td>\n",
       "      <td>malesuada@dignissim.com</td>\n",
       "      <td>Cook Islands</td>\n",
       "      <td>1</td>\n",
       "      <td>58.271369</td>\n",
       "      <td>79370.03798</td>\n",
       "      <td>14426.164850</td>\n",
       "      <td>548599.0524</td>\n",
       "      <td>67422.36313</td>\n",
       "    </tr>\n",
       "    <tr>\n",
       "      <th>4</th>\n",
       "      <td>Cedric Leach</td>\n",
       "      <td>felis.ullamcorper.viverra@egetmollislectus.net</td>\n",
       "      <td>Brazil</td>\n",
       "      <td>1</td>\n",
       "      <td>57.313749</td>\n",
       "      <td>59729.15130</td>\n",
       "      <td>5358.712177</td>\n",
       "      <td>560304.0671</td>\n",
       "      <td>55915.46248</td>\n",
       "    </tr>\n",
       "  </tbody>\n",
       "</table>\n",
       "</div>"
      ],
      "text/plain": [
       "     customer name                                    customer e-mail  \\\n",
       "0    Martina Avila  cubilia.Curae.Phasellus@quisaccumsanconvallis.edu   \n",
       "1    Harlan Barnes                                eu.dolor@diam.co.uk   \n",
       "2  Naomi Rodriquez  vulputate.mauris.sagittis@ametconsectetueradip...   \n",
       "3  Jade Cunningham                            malesuada@dignissim.com   \n",
       "4     Cedric Leach     felis.ullamcorper.viverra@egetmollislectus.net   \n",
       "\n",
       "        country  gender        age  annual Salary  credit card debt  \\\n",
       "0      Bulgaria       0  41.851720    62812.09301      11609.380910   \n",
       "1        Belize       0  40.870623    66646.89292       9572.957136   \n",
       "2       Algeria       1  43.152897    53798.55112      11160.355060   \n",
       "3  Cook Islands       1  58.271369    79370.03798      14426.164850   \n",
       "4        Brazil       1  57.313749    59729.15130       5358.712177   \n",
       "\n",
       "     net worth  car purchase amount  \n",
       "0  238961.2505          35321.45877  \n",
       "1  530973.9078          45115.52566  \n",
       "2  638467.1773          42925.70921  \n",
       "3  548599.0524          67422.36313  \n",
       "4  560304.0671          55915.46248  "
      ]
     },
     "execution_count": 110,
     "metadata": {},
     "output_type": "execute_result"
    }
   ],
   "source": [
    "data.head()"
   ]
  },
  {
   "cell_type": "code",
   "execution_count": 111,
   "id": "9a1dfcf5",
   "metadata": {},
   "outputs": [
    {
     "data": {
      "text/plain": [
       "Index(['customer name', 'customer e-mail', 'country', 'gender', 'age',\n",
       "       'annual Salary', 'credit card debt', 'net worth',\n",
       "       'car purchase amount'],\n",
       "      dtype='object')"
      ]
     },
     "execution_count": 111,
     "metadata": {},
     "output_type": "execute_result"
    }
   ],
   "source": [
    "data.keys()"
   ]
  },
  {
   "cell_type": "code",
   "execution_count": 112,
   "id": "79269bce",
   "metadata": {},
   "outputs": [],
   "source": [
    "#droping the un-nessasary columns\n",
    "data.drop(columns=['customer name', 'customer e-mail', 'country'],inplace=True)"
   ]
  },
  {
   "cell_type": "code",
   "execution_count": 113,
   "id": "d8df817c",
   "metadata": {},
   "outputs": [
    {
     "data": {
      "text/html": [
       "<div>\n",
       "<style scoped>\n",
       "    .dataframe tbody tr th:only-of-type {\n",
       "        vertical-align: middle;\n",
       "    }\n",
       "\n",
       "    .dataframe tbody tr th {\n",
       "        vertical-align: top;\n",
       "    }\n",
       "\n",
       "    .dataframe thead th {\n",
       "        text-align: right;\n",
       "    }\n",
       "</style>\n",
       "<table border=\"1\" class=\"dataframe\">\n",
       "  <thead>\n",
       "    <tr style=\"text-align: right;\">\n",
       "      <th></th>\n",
       "      <th>gender</th>\n",
       "      <th>age</th>\n",
       "      <th>annual Salary</th>\n",
       "      <th>credit card debt</th>\n",
       "      <th>net worth</th>\n",
       "      <th>car purchase amount</th>\n",
       "    </tr>\n",
       "  </thead>\n",
       "  <tbody>\n",
       "    <tr>\n",
       "      <th>0</th>\n",
       "      <td>0</td>\n",
       "      <td>41.851720</td>\n",
       "      <td>62812.09301</td>\n",
       "      <td>11609.380910</td>\n",
       "      <td>238961.2505</td>\n",
       "      <td>35321.45877</td>\n",
       "    </tr>\n",
       "    <tr>\n",
       "      <th>1</th>\n",
       "      <td>0</td>\n",
       "      <td>40.870623</td>\n",
       "      <td>66646.89292</td>\n",
       "      <td>9572.957136</td>\n",
       "      <td>530973.9078</td>\n",
       "      <td>45115.52566</td>\n",
       "    </tr>\n",
       "    <tr>\n",
       "      <th>2</th>\n",
       "      <td>1</td>\n",
       "      <td>43.152897</td>\n",
       "      <td>53798.55112</td>\n",
       "      <td>11160.355060</td>\n",
       "      <td>638467.1773</td>\n",
       "      <td>42925.70921</td>\n",
       "    </tr>\n",
       "    <tr>\n",
       "      <th>3</th>\n",
       "      <td>1</td>\n",
       "      <td>58.271369</td>\n",
       "      <td>79370.03798</td>\n",
       "      <td>14426.164850</td>\n",
       "      <td>548599.0524</td>\n",
       "      <td>67422.36313</td>\n",
       "    </tr>\n",
       "    <tr>\n",
       "      <th>4</th>\n",
       "      <td>1</td>\n",
       "      <td>57.313749</td>\n",
       "      <td>59729.15130</td>\n",
       "      <td>5358.712177</td>\n",
       "      <td>560304.0671</td>\n",
       "      <td>55915.46248</td>\n",
       "    </tr>\n",
       "  </tbody>\n",
       "</table>\n",
       "</div>"
      ],
      "text/plain": [
       "   gender        age  annual Salary  credit card debt    net worth  \\\n",
       "0       0  41.851720    62812.09301      11609.380910  238961.2505   \n",
       "1       0  40.870623    66646.89292       9572.957136  530973.9078   \n",
       "2       1  43.152897    53798.55112      11160.355060  638467.1773   \n",
       "3       1  58.271369    79370.03798      14426.164850  548599.0524   \n",
       "4       1  57.313749    59729.15130       5358.712177  560304.0671   \n",
       "\n",
       "   car purchase amount  \n",
       "0          35321.45877  \n",
       "1          45115.52566  \n",
       "2          42925.70921  \n",
       "3          67422.36313  \n",
       "4          55915.46248  "
      ]
     },
     "execution_count": 113,
     "metadata": {},
     "output_type": "execute_result"
    }
   ],
   "source": [
    "data.head()"
   ]
  },
  {
   "cell_type": "code",
   "execution_count": 114,
   "id": "a933d4a0",
   "metadata": {},
   "outputs": [
    {
     "name": "stdout",
     "output_type": "stream",
     "text": [
      "<class 'pandas.core.frame.DataFrame'>\n",
      "RangeIndex: 500 entries, 0 to 499\n",
      "Data columns (total 6 columns):\n",
      " #   Column               Non-Null Count  Dtype  \n",
      "---  ------               --------------  -----  \n",
      " 0   gender               500 non-null    int64  \n",
      " 1   age                  500 non-null    float64\n",
      " 2   annual Salary        500 non-null    float64\n",
      " 3   credit card debt     500 non-null    float64\n",
      " 4   net worth            500 non-null    float64\n",
      " 5   car purchase amount  500 non-null    float64\n",
      "dtypes: float64(5), int64(1)\n",
      "memory usage: 23.6 KB\n"
     ]
    }
   ],
   "source": [
    "#information of the data\n",
    "data.info()"
   ]
  },
  {
   "cell_type": "code",
   "execution_count": 115,
   "id": "b362ce97",
   "metadata": {},
   "outputs": [
    {
     "data": {
      "text/html": [
       "<div>\n",
       "<style scoped>\n",
       "    .dataframe tbody tr th:only-of-type {\n",
       "        vertical-align: middle;\n",
       "    }\n",
       "\n",
       "    .dataframe tbody tr th {\n",
       "        vertical-align: top;\n",
       "    }\n",
       "\n",
       "    .dataframe thead th {\n",
       "        text-align: right;\n",
       "    }\n",
       "</style>\n",
       "<table border=\"1\" class=\"dataframe\">\n",
       "  <thead>\n",
       "    <tr style=\"text-align: right;\">\n",
       "      <th></th>\n",
       "      <th>gender</th>\n",
       "      <th>age</th>\n",
       "      <th>annual Salary</th>\n",
       "      <th>credit card debt</th>\n",
       "      <th>net worth</th>\n",
       "      <th>car purchase amount</th>\n",
       "    </tr>\n",
       "  </thead>\n",
       "  <tbody>\n",
       "    <tr>\n",
       "      <th>count</th>\n",
       "      <td>500.000000</td>\n",
       "      <td>500.000000</td>\n",
       "      <td>500.000000</td>\n",
       "      <td>500.000000</td>\n",
       "      <td>500.000000</td>\n",
       "      <td>500.000000</td>\n",
       "    </tr>\n",
       "    <tr>\n",
       "      <th>mean</th>\n",
       "      <td>0.506000</td>\n",
       "      <td>46.241674</td>\n",
       "      <td>62127.239608</td>\n",
       "      <td>9607.645049</td>\n",
       "      <td>431475.713625</td>\n",
       "      <td>44209.799218</td>\n",
       "    </tr>\n",
       "    <tr>\n",
       "      <th>std</th>\n",
       "      <td>0.500465</td>\n",
       "      <td>7.978862</td>\n",
       "      <td>11703.378228</td>\n",
       "      <td>3489.187973</td>\n",
       "      <td>173536.756340</td>\n",
       "      <td>10773.178744</td>\n",
       "    </tr>\n",
       "    <tr>\n",
       "      <th>min</th>\n",
       "      <td>0.000000</td>\n",
       "      <td>20.000000</td>\n",
       "      <td>20000.000000</td>\n",
       "      <td>100.000000</td>\n",
       "      <td>20000.000000</td>\n",
       "      <td>9000.000000</td>\n",
       "    </tr>\n",
       "    <tr>\n",
       "      <th>25%</th>\n",
       "      <td>0.000000</td>\n",
       "      <td>40.949969</td>\n",
       "      <td>54391.977195</td>\n",
       "      <td>7397.515792</td>\n",
       "      <td>299824.195900</td>\n",
       "      <td>37629.896040</td>\n",
       "    </tr>\n",
       "    <tr>\n",
       "      <th>50%</th>\n",
       "      <td>1.000000</td>\n",
       "      <td>46.049901</td>\n",
       "      <td>62915.497035</td>\n",
       "      <td>9655.035568</td>\n",
       "      <td>426750.120650</td>\n",
       "      <td>43997.783390</td>\n",
       "    </tr>\n",
       "    <tr>\n",
       "      <th>75%</th>\n",
       "      <td>1.000000</td>\n",
       "      <td>51.612263</td>\n",
       "      <td>70117.862005</td>\n",
       "      <td>11798.867487</td>\n",
       "      <td>557324.478725</td>\n",
       "      <td>51254.709517</td>\n",
       "    </tr>\n",
       "    <tr>\n",
       "      <th>max</th>\n",
       "      <td>1.000000</td>\n",
       "      <td>70.000000</td>\n",
       "      <td>100000.000000</td>\n",
       "      <td>20000.000000</td>\n",
       "      <td>1000000.000000</td>\n",
       "      <td>80000.000000</td>\n",
       "    </tr>\n",
       "  </tbody>\n",
       "</table>\n",
       "</div>"
      ],
      "text/plain": [
       "           gender         age  annual Salary  credit card debt  \\\n",
       "count  500.000000  500.000000     500.000000        500.000000   \n",
       "mean     0.506000   46.241674   62127.239608       9607.645049   \n",
       "std      0.500465    7.978862   11703.378228       3489.187973   \n",
       "min      0.000000   20.000000   20000.000000        100.000000   \n",
       "25%      0.000000   40.949969   54391.977195       7397.515792   \n",
       "50%      1.000000   46.049901   62915.497035       9655.035568   \n",
       "75%      1.000000   51.612263   70117.862005      11798.867487   \n",
       "max      1.000000   70.000000  100000.000000      20000.000000   \n",
       "\n",
       "            net worth  car purchase amount  \n",
       "count      500.000000           500.000000  \n",
       "mean    431475.713625         44209.799218  \n",
       "std     173536.756340         10773.178744  \n",
       "min      20000.000000          9000.000000  \n",
       "25%     299824.195900         37629.896040  \n",
       "50%     426750.120650         43997.783390  \n",
       "75%     557324.478725         51254.709517  \n",
       "max    1000000.000000         80000.000000  "
      ]
     },
     "execution_count": 115,
     "metadata": {},
     "output_type": "execute_result"
    }
   ],
   "source": [
    "data.describe()"
   ]
  },
  {
   "cell_type": "code",
   "execution_count": 116,
   "id": "c27bf755",
   "metadata": {},
   "outputs": [
    {
     "data": {
      "text/html": [
       "<div>\n",
       "<style scoped>\n",
       "    .dataframe tbody tr th:only-of-type {\n",
       "        vertical-align: middle;\n",
       "    }\n",
       "\n",
       "    .dataframe tbody tr th {\n",
       "        vertical-align: top;\n",
       "    }\n",
       "\n",
       "    .dataframe thead th {\n",
       "        text-align: right;\n",
       "    }\n",
       "</style>\n",
       "<table border=\"1\" class=\"dataframe\">\n",
       "  <thead>\n",
       "    <tr style=\"text-align: right;\">\n",
       "      <th></th>\n",
       "      <th>gender</th>\n",
       "      <th>age</th>\n",
       "      <th>annual Salary</th>\n",
       "      <th>credit card debt</th>\n",
       "    </tr>\n",
       "  </thead>\n",
       "  <tbody>\n",
       "    <tr>\n",
       "      <th>0</th>\n",
       "      <td>0</td>\n",
       "      <td>41.851720</td>\n",
       "      <td>62812.09301</td>\n",
       "      <td>11609.380910</td>\n",
       "    </tr>\n",
       "    <tr>\n",
       "      <th>1</th>\n",
       "      <td>0</td>\n",
       "      <td>40.870623</td>\n",
       "      <td>66646.89292</td>\n",
       "      <td>9572.957136</td>\n",
       "    </tr>\n",
       "    <tr>\n",
       "      <th>2</th>\n",
       "      <td>1</td>\n",
       "      <td>43.152897</td>\n",
       "      <td>53798.55112</td>\n",
       "      <td>11160.355060</td>\n",
       "    </tr>\n",
       "    <tr>\n",
       "      <th>3</th>\n",
       "      <td>1</td>\n",
       "      <td>58.271369</td>\n",
       "      <td>79370.03798</td>\n",
       "      <td>14426.164850</td>\n",
       "    </tr>\n",
       "    <tr>\n",
       "      <th>4</th>\n",
       "      <td>1</td>\n",
       "      <td>57.313749</td>\n",
       "      <td>59729.15130</td>\n",
       "      <td>5358.712177</td>\n",
       "    </tr>\n",
       "    <tr>\n",
       "      <th>...</th>\n",
       "      <td>...</td>\n",
       "      <td>...</td>\n",
       "      <td>...</td>\n",
       "      <td>...</td>\n",
       "    </tr>\n",
       "    <tr>\n",
       "      <th>495</th>\n",
       "      <td>0</td>\n",
       "      <td>41.462515</td>\n",
       "      <td>71942.40291</td>\n",
       "      <td>6995.902524</td>\n",
       "    </tr>\n",
       "    <tr>\n",
       "      <th>496</th>\n",
       "      <td>1</td>\n",
       "      <td>37.642000</td>\n",
       "      <td>56039.49793</td>\n",
       "      <td>12301.456790</td>\n",
       "    </tr>\n",
       "    <tr>\n",
       "      <th>497</th>\n",
       "      <td>1</td>\n",
       "      <td>53.943497</td>\n",
       "      <td>68888.77805</td>\n",
       "      <td>10611.606860</td>\n",
       "    </tr>\n",
       "    <tr>\n",
       "      <th>498</th>\n",
       "      <td>1</td>\n",
       "      <td>59.160509</td>\n",
       "      <td>49811.99062</td>\n",
       "      <td>14013.034510</td>\n",
       "    </tr>\n",
       "    <tr>\n",
       "      <th>499</th>\n",
       "      <td>1</td>\n",
       "      <td>46.731152</td>\n",
       "      <td>61370.67766</td>\n",
       "      <td>9391.341628</td>\n",
       "    </tr>\n",
       "  </tbody>\n",
       "</table>\n",
       "<p>500 rows × 4 columns</p>\n",
       "</div>"
      ],
      "text/plain": [
       "     gender        age  annual Salary  credit card debt\n",
       "0         0  41.851720    62812.09301      11609.380910\n",
       "1         0  40.870623    66646.89292       9572.957136\n",
       "2         1  43.152897    53798.55112      11160.355060\n",
       "3         1  58.271369    79370.03798      14426.164850\n",
       "4         1  57.313749    59729.15130       5358.712177\n",
       "..      ...        ...            ...               ...\n",
       "495       0  41.462515    71942.40291       6995.902524\n",
       "496       1  37.642000    56039.49793      12301.456790\n",
       "497       1  53.943497    68888.77805      10611.606860\n",
       "498       1  59.160509    49811.99062      14013.034510\n",
       "499       1  46.731152    61370.67766       9391.341628\n",
       "\n",
       "[500 rows x 4 columns]"
      ]
     },
     "execution_count": 116,
     "metadata": {},
     "output_type": "execute_result"
    }
   ],
   "source": [
    "x=data.iloc[:,0:4]\n",
    "x"
   ]
  },
  {
   "cell_type": "code",
   "execution_count": 117,
   "id": "c381cefe",
   "metadata": {},
   "outputs": [
    {
     "data": {
      "text/plain": [
       "0      35321.45877\n",
       "1      45115.52566\n",
       "2      42925.70921\n",
       "3      67422.36313\n",
       "4      55915.46248\n",
       "          ...     \n",
       "495    48901.44342\n",
       "496    31491.41457\n",
       "497    64147.28888\n",
       "498    45442.15353\n",
       "499    45107.22566\n",
       "Name: car purchase amount, Length: 500, dtype: float64"
      ]
     },
     "execution_count": 117,
     "metadata": {},
     "output_type": "execute_result"
    }
   ],
   "source": [
    "y=data.iloc[:,5]\n",
    "y"
   ]
  },
  {
   "cell_type": "code",
   "execution_count": 118,
   "id": "a63f3e15",
   "metadata": {},
   "outputs": [],
   "source": [
    "from sklearn.preprocessing import StandardScaler"
   ]
  },
  {
   "cell_type": "code",
   "execution_count": 119,
   "id": "7c7280bb",
   "metadata": {},
   "outputs": [],
   "source": [
    "sc=StandardScaler()\n",
    "x=sc.fit_transform(x)\n",
    "y=sc.fit_transform(y.values.reshape(-1, 1))"
   ]
  },
  {
   "cell_type": "markdown",
   "id": "51dbda87",
   "metadata": {},
   "source": [
    "# PART=1 dividing the dataset"
   ]
  },
  {
   "cell_type": "code",
   "execution_count": 120,
   "id": "d14548b8",
   "metadata": {},
   "outputs": [],
   "source": [
    "from sklearn.model_selection import train_test_split"
   ]
  },
  {
   "cell_type": "code",
   "execution_count": 121,
   "id": "3bc4e174",
   "metadata": {},
   "outputs": [
    {
     "name": "stdout",
     "output_type": "stream",
     "text": [
      "(400, 4)\n",
      "(100, 4)\n",
      "(400, 1)\n",
      "(100, 1)\n"
     ]
    }
   ],
   "source": [
    "x_train, x_test, y_train, y_test = train_test_split(x, y, test_size=0.20, random_state=52)\n",
    "print(x_train.shape)\n",
    "print(x_test.shape)\n",
    "print(y_train.shape)\n",
    "print(y_test.shape)"
   ]
  },
  {
   "cell_type": "code",
   "execution_count": 122,
   "id": "86a741a2",
   "metadata": {},
   "outputs": [
    {
     "data": {
      "text/plain": [
       "array([[-1.01207287,  1.22294436, -1.93631754,  0.39724875],\n",
       "       [ 0.98807114,  0.46291564, -0.58449584, -0.04089711],\n",
       "       [-1.01207287, -0.54824449,  0.70424295,  0.69342804],\n",
       "       ...,\n",
       "       [-1.01207287,  0.28288485,  0.52834487, -0.04035059],\n",
       "       [-1.01207287, -1.80758521,  0.27247846,  0.5138656 ],\n",
       "       [-1.01207287,  0.6346207 , -2.3925124 , -1.23121273]])"
      ]
     },
     "execution_count": 122,
     "metadata": {},
     "output_type": "execute_result"
    }
   ],
   "source": [
    "x_train"
   ]
  },
  {
   "cell_type": "markdown",
   "id": "e26de447",
   "metadata": {},
   "source": [
    "### PART=2 Feature scaling"
   ]
  },
  {
   "cell_type": "code",
   "execution_count": 123,
   "id": "c4d08184",
   "metadata": {},
   "outputs": [
    {
     "data": {
      "text/plain": [
       "array([[-1.01207287,  1.22294436, -1.93631754,  0.39724875],\n",
       "       [ 0.98807114,  0.46291564, -0.58449584, -0.04089711],\n",
       "       [-1.01207287, -0.54824449,  0.70424295,  0.69342804],\n",
       "       ...,\n",
       "       [-1.01207287,  0.28288485,  0.52834487, -0.04035059],\n",
       "       [-1.01207287, -1.80758521,  0.27247846,  0.5138656 ],\n",
       "       [-1.01207287,  0.6346207 , -2.3925124 , -1.23121273]])"
      ]
     },
     "execution_count": 123,
     "metadata": {},
     "output_type": "execute_result"
    }
   ],
   "source": [
    "x_train"
   ]
  },
  {
   "cell_type": "code",
   "execution_count": 124,
   "id": "6799f3c3",
   "metadata": {},
   "outputs": [
    {
     "data": {
      "text/plain": [
       "(400, 4)"
      ]
     },
     "execution_count": 124,
     "metadata": {},
     "output_type": "execute_result"
    }
   ],
   "source": [
    "x_train.shape"
   ]
  },
  {
   "cell_type": "code",
   "execution_count": 125,
   "id": "de97d4e0",
   "metadata": {},
   "outputs": [
    {
     "data": {
      "text/plain": [
       "array([[-1.01207287e+00, -7.30174022e-01,  6.77807482e-01,\n",
       "        -1.40756033e+00],\n",
       "       [ 9.88071144e-01,  2.16595618e-01, -8.20501490e-01,\n",
       "        -5.80627396e-01],\n",
       "       [ 9.88071144e-01, -1.07888661e+00, -5.20690560e-01,\n",
       "         7.72818668e-01],\n",
       "       [-1.01207287e+00,  4.03971991e-01,  1.30932768e+00,\n",
       "        -7.70431905e-01],\n",
       "       [-1.01207287e+00,  1.17786796e+00, -6.31742584e-02,\n",
       "         1.33756956e+00],\n",
       "       [ 9.88071144e-01, -8.21133861e-01,  4.82858936e-01,\n",
       "        -7.80445552e-01],\n",
       "       [-1.01207287e+00,  1.94519288e-01,  2.10227417e+00,\n",
       "         1.30877500e-02],\n",
       "       [ 9.88071144e-01,  1.26795152e-02,  1.73614282e+00,\n",
       "        -5.97410768e-01],\n",
       "       [-1.01207287e+00,  3.82393427e-01,  4.70643549e-01,\n",
       "         3.75594969e-01],\n",
       "       [ 9.88071144e-01,  1.64678799e-01, -4.07057657e-01,\n",
       "         1.62980177e-01],\n",
       "       [ 9.88071144e-01, -5.19331517e-01, -7.44100581e-01,\n",
       "        -4.89010215e-01],\n",
       "       [ 9.88071144e-01, -8.02400619e-01,  9.26747707e-02,\n",
       "        -1.70691307e+00],\n",
       "       [ 9.88071144e-01, -1.93134166e-01,  1.46987761e-01,\n",
       "        -5.29534409e-01],\n",
       "       [-1.01207287e+00, -1.00543503e-03,  5.11534481e-01,\n",
       "        -5.14686839e-01],\n",
       "       [-1.01207287e+00,  1.56822959e+00, -5.78104157e-01,\n",
       "         1.05152610e+00],\n",
       "       [-1.01207287e+00,  2.38480217e-01, -4.43253127e-01,\n",
       "         1.96271259e+00],\n",
       "       [-1.01207287e+00, -4.98645069e-02, -1.60065912e+00,\n",
       "        -5.06137520e-01],\n",
       "       [ 9.88071144e-01, -7.07562253e-01,  8.70081979e-01,\n",
       "         5.55782324e-01],\n",
       "       [-1.01207287e+00,  5.94937555e-01,  2.33251562e-01,\n",
       "        -1.82452963e+00],\n",
       "       [-1.01207287e+00,  1.04342510e+00,  6.08077981e-01,\n",
       "         6.74750444e-02],\n",
       "       [-1.01207287e+00,  7.98954708e-01,  1.21382492e+00,\n",
       "        -9.22465035e-01],\n",
       "       [-1.01207287e+00, -9.29237798e-01,  1.28626404e+00,\n",
       "        -2.49718162e-01],\n",
       "       [ 9.88071144e-01, -1.09699751e+00,  5.61182701e-01,\n",
       "         1.77544786e+00],\n",
       "       [-1.01207287e+00, -5.99577475e-01,  8.39500614e-01,\n",
       "        -7.49274104e-01],\n",
       "       [ 9.88071144e-01,  9.79327473e-02, -8.63828872e-01,\n",
       "         6.75104203e-01],\n",
       "       [-1.01207287e+00,  5.05954084e-01,  1.03056016e+00,\n",
       "         6.56046503e-01],\n",
       "       [-1.01207287e+00, -2.37918657e-01,  1.00807680e-01,\n",
       "         1.87598780e+00],\n",
       "       [ 9.88071144e-01,  7.09933912e-01,  1.11927855e-01,\n",
       "         6.51345403e-01],\n",
       "       [-1.01207287e+00,  4.43071006e-01, -3.87168238e-01,\n",
       "         2.10189054e-01],\n",
       "       [-1.01207287e+00, -6.13128412e-01,  1.44869961e+00,\n",
       "        -6.84505238e-01],\n",
       "       [-1.01207287e+00,  1.67835210e+00,  1.66261293e+00,\n",
       "        -1.53651331e-01],\n",
       "       [-1.01207287e+00, -1.21303573e+00,  4.63709206e-01,\n",
       "         2.45205120e-01],\n",
       "       [-1.01207287e+00, -7.65201246e-01,  7.71571867e-01,\n",
       "        -4.84836766e-01],\n",
       "       [ 9.88071144e-01,  2.92660725e+00, -1.76986939e+00,\n",
       "        -8.02447663e-01],\n",
       "       [-1.01207287e+00,  1.02277493e-01,  1.57271646e-02,\n",
       "         6.43808853e-02],\n",
       "       [-1.01207287e+00,  3.36189632e-01,  5.45248914e-01,\n",
       "        -1.08343518e+00],\n",
       "       [-1.01207287e+00, -3.34407929e-01, -1.98960174e-01,\n",
       "        -4.49051738e-01],\n",
       "       [-1.01207287e+00, -1.16325200e+00, -1.67057583e-01,\n",
       "         1.73818506e+00],\n",
       "       [ 9.88071144e-01, -1.47331520e+00,  1.28974266e+00,\n",
       "        -3.19748521e-01],\n",
       "       [ 9.88071144e-01,  8.70479205e-01, -5.73535077e-01,\n",
       "         1.16855893e-01],\n",
       "       [-1.01207287e+00,  3.44551053e-01,  2.56935990e-01,\n",
       "        -9.75622064e-01],\n",
       "       [ 9.88071144e-01,  8.43832615e-01,  7.29033941e-02,\n",
       "         1.34538618e+00],\n",
       "       [-1.01207287e+00,  1.53369961e+00, -9.81690013e-01,\n",
       "         4.60187760e-01],\n",
       "       [-1.01207287e+00, -8.02527906e-01,  1.88257067e-01,\n",
       "         1.22006965e+00],\n",
       "       [-1.01207287e+00,  1.74780291e+00, -7.61062783e-01,\n",
       "         3.29622402e-01],\n",
       "       [-1.01207287e+00, -1.79025494e+00,  1.00999288e+00,\n",
       "        -3.88462215e-01],\n",
       "       [ 9.88071144e-01, -7.85130300e-01, -3.99556189e-01,\n",
       "         7.39703667e-01],\n",
       "       [-1.01207287e+00,  7.85462664e-02, -1.19776482e+00,\n",
       "        -2.49192943e+00],\n",
       "       [-1.01207287e+00,  1.69833052e+00, -6.84620933e-01,\n",
       "         1.59429519e+00],\n",
       "       [ 9.88071144e-01, -9.33835892e-02, -8.74160002e-01,\n",
       "         1.17030375e+00],\n",
       "       [-1.01207287e+00,  1.80558055e-01, -1.29907585e-01,\n",
       "        -3.94286800e-01],\n",
       "       [-1.01207287e+00, -1.11281352e+00, -1.25970136e+00,\n",
       "         1.42152254e+00],\n",
       "       [-1.01207287e+00, -1.71251428e+00, -6.56885417e-01,\n",
       "         1.01376413e+00],\n",
       "       [-1.01207287e+00, -2.46428926e-01,  6.93050357e-01,\n",
       "        -3.05713867e-01],\n",
       "       [ 9.88071144e-01,  2.59318763e-01,  2.47667802e+00,\n",
       "         1.01592619e+00],\n",
       "       [ 9.88071144e-01, -5.50343405e-01,  6.68826635e-01,\n",
       "        -1.71270311e-01],\n",
       "       [-1.01207287e+00,  7.94864254e-01, -7.75053405e-01,\n",
       "         2.35187709e+00],\n",
       "       [ 9.88071144e-01, -4.00304962e-01,  4.00834508e-01,\n",
       "         1.67858639e+00],\n",
       "       [ 9.88071144e-01, -4.02815500e-01, -9.15842883e-01,\n",
       "         4.94466215e-01],\n",
       "       [-1.01207287e+00,  5.58860880e-01,  1.05128853e+00,\n",
       "        -2.79699019e-01],\n",
       "       [ 9.88071144e-01, -2.13210607e-02,  9.70706825e-01,\n",
       "         1.41036662e-02],\n",
       "       [-1.01207287e+00,  6.09576277e-01,  8.66853385e-01,\n",
       "         7.22145035e-01],\n",
       "       [-1.01207287e+00,  7.71846126e-01, -3.40770574e-01,\n",
       "         2.25132174e-02],\n",
       "       [-1.01207287e+00, -5.38619680e-01, -2.03933412e+00,\n",
       "         1.68119671e+00],\n",
       "       [ 9.88071144e-01,  1.38906581e+00, -2.05110862e-01,\n",
       "        -1.21896218e+00],\n",
       "       [ 9.88071144e-01,  5.62628653e-01,  5.65954855e-02,\n",
       "         1.03761359e+00],\n",
       "       [-1.01207287e+00,  1.53727318e-01, -3.30719873e-01,\n",
       "        -1.41986824e+00],\n",
       "       [ 9.88071144e-01,  1.93988956e+00,  3.87299247e-01,\n",
       "        -4.60740199e-01],\n",
       "       [ 9.88071144e-01,  3.65955122e-03,  1.28459302e+00,\n",
       "        -4.88943841e-01],\n",
       "       [-1.01207287e+00,  3.38681967e-01,  1.26096352e+00,\n",
       "        -1.15681931e+00],\n",
       "       [-1.01207287e+00,  4.58671586e-01, -7.30444182e-01,\n",
       "        -3.17339045e-01],\n",
       "       [-1.01207287e+00,  6.47813174e-02, -9.77859752e-01,\n",
       "         3.65567047e-01],\n",
       "       [ 9.88071144e-01, -2.15875234e+00, -5.72512594e-01,\n",
       "         3.33392584e-01],\n",
       "       [-1.01207287e+00,  1.03877264e+00, -2.51711351e+00,\n",
       "         3.58717409e-01],\n",
       "       [-1.01207287e+00,  9.43566930e-01,  3.17091536e-01,\n",
       "         1.64833967e+00],\n",
       "       [ 9.88071144e-01, -4.44898563e-01,  3.73204752e-02,\n",
       "        -9.97602439e-01],\n",
       "       [ 9.88071144e-01,  1.00126420e+00, -3.52011822e-01,\n",
       "         6.16178460e-02],\n",
       "       [-1.01207287e+00, -2.78264398e-01,  2.42407944e-01,\n",
       "        -7.80882860e-01],\n",
       "       [ 9.88071144e-01,  2.38157014e+00,  7.33565971e-01,\n",
       "        -1.31459489e+00],\n",
       "       [-1.01207287e+00, -9.64844014e-01,  6.09088035e-01,\n",
       "        -9.07095491e-01],\n",
       "       [ 9.88071144e-01, -2.52057330e-01, -1.42173807e+00,\n",
       "        -1.03904114e-01],\n",
       "       [ 9.88071144e-01,  1.77831823e+00, -1.93875110e+00,\n",
       "        -2.40512802e-01],\n",
       "       [-1.01207287e+00,  6.93893160e-01,  2.66157473e-01,\n",
       "        -6.22668579e-01],\n",
       "       [-1.01207287e+00,  1.07022654e+00,  8.70975447e-01,\n",
       "        -1.86876177e+00],\n",
       "       [-1.01207287e+00, -3.18192970e-01,  6.85068062e-01,\n",
       "        -5.28350440e-01],\n",
       "       [ 9.88071144e-01, -8.06292176e-01, -5.16674675e-01,\n",
       "        -8.66121913e-01],\n",
       "       [-1.01207287e+00, -5.49256833e-01, -9.05543012e-01,\n",
       "        -7.67334256e-01],\n",
       "       [ 9.88071144e-01, -6.54668398e-01, -6.31633090e-01,\n",
       "         2.10851406e-01],\n",
       "       [ 9.88071144e-01,  1.28942559e+00, -7.42095868e-01,\n",
       "        -2.48708349e-01],\n",
       "       [ 9.88071144e-01, -6.29383417e-01,  9.66401427e-01,\n",
       "         1.49615740e+00],\n",
       "       [ 9.88071144e-01,  3.43884908e-03, -3.13883731e-01,\n",
       "         8.27199739e-01],\n",
       "       [-1.01207287e+00,  9.93978090e-01,  1.45794729e+00,\n",
       "        -7.73041429e-01],\n",
       "       [-1.01207287e+00,  5.66509746e-01, -2.72129751e-02,\n",
       "        -2.00463939e+00],\n",
       "       [ 9.88071144e-01, -3.90037979e-01,  8.45874527e-01,\n",
       "         5.72366990e-01],\n",
       "       [-1.01207287e+00,  1.13692264e+00,  9.05677558e-02,\n",
       "        -7.13051409e-01],\n",
       "       [ 9.88071144e-01, -5.03806921e-01, -5.15643394e-01,\n",
       "         5.93178319e-01],\n",
       "       [-1.01207287e+00, -6.73834215e-01,  3.86570413e-01,\n",
       "        -9.95149958e-03],\n",
       "       [ 9.88071144e-01, -9.36994778e-01, -9.56585160e-01,\n",
       "         3.46914961e-01],\n",
       "       [ 9.88071144e-01, -1.53880718e+00, -8.12674930e-02,\n",
       "         6.58626900e-02],\n",
       "       [-1.01207287e+00,  1.87972383e+00, -4.16942823e-02,\n",
       "         2.37054239e+00]])"
      ]
     },
     "execution_count": 125,
     "metadata": {},
     "output_type": "execute_result"
    }
   ],
   "source": [
    "x_test"
   ]
  },
  {
   "cell_type": "markdown",
   "id": "030f42c0",
   "metadata": {},
   "source": [
    "### PART=3 (Model initiate)"
   ]
  },
  {
   "cell_type": "code",
   "execution_count": 126,
   "id": "afd41cd8",
   "metadata": {},
   "outputs": [],
   "source": [
    "from tensorflow.keras.models import Sequential\n",
    "from tensorflow.keras.layers import Dense\n",
    "from tensorflow.keras.layers import ReLU,LeakyReLU,ELU,PReLU\n",
    "from tensorflow.keras.layers import Dropout"
   ]
  },
  {
   "cell_type": "markdown",
   "id": "23349a65",
   "metadata": {},
   "source": [
    "##### Callback/ call back is stop the model if the acuraccy is not increasing"
   ]
  },
  {
   "cell_type": "code",
   "execution_count": 127,
   "id": "f37c2e1f",
   "metadata": {},
   "outputs": [],
   "source": [
    "import tensorflow as tf\n",
    "yep=tf.keras.callbacks.EarlyStopping(monitor='val_loss',min_delta=0.2,verbose=0,baseline=None,restore_best_weights=True,\n",
    "                                             start_from_epoch=0,patience=2)"
   ]
  },
  {
   "cell_type": "markdown",
   "id": "094515f8",
   "metadata": {},
   "source": [
    "##### 1 model initiate"
   ]
  },
  {
   "cell_type": "code",
   "execution_count": 128,
   "id": "ca542f7e",
   "metadata": {},
   "outputs": [],
   "source": [
    "model=Sequential()"
   ]
  },
  {
   "cell_type": "markdown",
   "id": "5b8329e9",
   "metadata": {},
   "source": [
    "##### 2. First layer / input layer"
   ]
  },
  {
   "cell_type": "code",
   "execution_count": 129,
   "id": "48567499",
   "metadata": {},
   "outputs": [],
   "source": [
    "model.add(Dense(units=10,activation='relu'))"
   ]
  },
  {
   "cell_type": "markdown",
   "id": "6bc52afe",
   "metadata": {},
   "source": [
    "##### 3. Second layer / 1st hidden layer"
   ]
  },
  {
   "cell_type": "code",
   "execution_count": 130,
   "id": "fd5736e7",
   "metadata": {},
   "outputs": [],
   "source": [
    "model.add(Dense(units=10,activation='relu'))\n",
    "#model.add(Dropout(0.2))     #deactive the 2 neuron (to decrese overfitting)"
   ]
  },
  {
   "cell_type": "markdown",
   "id": "b9fed920",
   "metadata": {},
   "source": [
    "##### 4. Third layer / 2nd  hidden layer"
   ]
  },
  {
   "cell_type": "code",
   "execution_count": 131,
   "id": "b743f639",
   "metadata": {},
   "outputs": [],
   "source": [
    "model.add(Dense(1,activation='linear'))"
   ]
  },
  {
   "cell_type": "markdown",
   "id": "f744924e",
   "metadata": {},
   "source": [
    "As this problem is linear type we use 'linear' in the outer layer and 'relu' in the inner layer"
   ]
  },
  {
   "cell_type": "markdown",
   "id": "65ca60d3",
   "metadata": {},
   "source": [
    "##### 5. compile the model"
   ]
  },
  {
   "cell_type": "code",
   "execution_count": 132,
   "id": "952a69e2",
   "metadata": {},
   "outputs": [],
   "source": [
    "import tensorflow as tf\n",
    "opt=tf.keras.optimizers.Adam(learning_rate=0.01)"
   ]
  },
  {
   "cell_type": "code",
   "execution_count": 133,
   "id": "388c3169",
   "metadata": {},
   "outputs": [],
   "source": [
    "model.compile(optimizer=opt,loss='mean_squared_error',metrics=['mean_absolute_error'])"
   ]
  },
  {
   "cell_type": "markdown",
   "id": "84172324",
   "metadata": {},
   "source": [
    "##### Fitting of model"
   ]
  },
  {
   "cell_type": "code",
   "execution_count": 134,
   "id": "39d4a844",
   "metadata": {},
   "outputs": [
    {
     "name": "stdout",
     "output_type": "stream",
     "text": [
      "Epoch 1/70\n",
      "\u001b[1m7/7\u001b[0m \u001b[32m━━━━━━━━━━━━━━━━━━━━\u001b[0m\u001b[37m\u001b[0m \u001b[1m2s\u001b[0m 55ms/step - loss: 1.0961 - mean_absolute_error: 0.8168 - val_loss: 0.5947 - val_mean_absolute_error: 0.6204\n",
      "Epoch 2/70\n",
      "\u001b[1m7/7\u001b[0m \u001b[32m━━━━━━━━━━━━━━━━━━━━\u001b[0m\u001b[37m\u001b[0m \u001b[1m0s\u001b[0m 25ms/step - loss: 0.5123 - mean_absolute_error: 0.5621 - val_loss: 0.2788 - val_mean_absolute_error: 0.4112\n",
      "Epoch 3/70\n",
      "\u001b[1m7/7\u001b[0m \u001b[32m━━━━━━━━━━━━━━━━━━━━\u001b[0m\u001b[37m\u001b[0m \u001b[1m0s\u001b[0m 26ms/step - loss: 0.2635 - mean_absolute_error: 0.3996 - val_loss: 0.2789 - val_mean_absolute_error: 0.4436\n",
      "Epoch 4/70\n",
      "\u001b[1m7/7\u001b[0m \u001b[32m━━━━━━━━━━━━━━━━━━━━\u001b[0m\u001b[37m\u001b[0m \u001b[1m0s\u001b[0m 20ms/step - loss: 0.2859 - mean_absolute_error: 0.4182 - val_loss: 0.2484 - val_mean_absolute_error: 0.4275\n",
      "Epoch 5/70\n",
      "\u001b[1m7/7\u001b[0m \u001b[32m━━━━━━━━━━━━━━━━━━━━\u001b[0m\u001b[37m\u001b[0m \u001b[1m0s\u001b[0m 26ms/step - loss: 0.2048 - mean_absolute_error: 0.3580 - val_loss: 0.2305 - val_mean_absolute_error: 0.3967\n",
      "Epoch 6/70\n",
      "\u001b[1m7/7\u001b[0m \u001b[32m━━━━━━━━━━━━━━━━━━━━\u001b[0m\u001b[37m\u001b[0m \u001b[1m0s\u001b[0m 19ms/step - loss: 0.1968 - mean_absolute_error: 0.3535 - val_loss: 0.2425 - val_mean_absolute_error: 0.4066\n",
      "Epoch 7/70\n",
      "\u001b[1m7/7\u001b[0m \u001b[32m━━━━━━━━━━━━━━━━━━━━\u001b[0m\u001b[37m\u001b[0m \u001b[1m0s\u001b[0m 26ms/step - loss: 0.2195 - mean_absolute_error: 0.3660 - val_loss: 0.2411 - val_mean_absolute_error: 0.4141\n",
      "Epoch 8/70\n",
      "\u001b[1m7/7\u001b[0m \u001b[32m━━━━━━━━━━━━━━━━━━━━\u001b[0m\u001b[37m\u001b[0m \u001b[1m0s\u001b[0m 27ms/step - loss: 0.2102 - mean_absolute_error: 0.3653 - val_loss: 0.2435 - val_mean_absolute_error: 0.4182\n",
      "Epoch 9/70\n",
      "\u001b[1m7/7\u001b[0m \u001b[32m━━━━━━━━━━━━━━━━━━━━\u001b[0m\u001b[37m\u001b[0m \u001b[1m0s\u001b[0m 27ms/step - loss: 0.1881 - mean_absolute_error: 0.3465 - val_loss: 0.2412 - val_mean_absolute_error: 0.4180\n",
      "Epoch 10/70\n",
      "\u001b[1m7/7\u001b[0m \u001b[32m━━━━━━━━━━━━━━━━━━━━\u001b[0m\u001b[37m\u001b[0m \u001b[1m0s\u001b[0m 24ms/step - loss: 0.2079 - mean_absolute_error: 0.3647 - val_loss: 0.2414 - val_mean_absolute_error: 0.4186\n",
      "Epoch 11/70\n",
      "\u001b[1m7/7\u001b[0m \u001b[32m━━━━━━━━━━━━━━━━━━━━\u001b[0m\u001b[37m\u001b[0m \u001b[1m0s\u001b[0m 26ms/step - loss: 0.2095 - mean_absolute_error: 0.3673 - val_loss: 0.2455 - val_mean_absolute_error: 0.4219\n",
      "Epoch 12/70\n",
      "\u001b[1m7/7\u001b[0m \u001b[32m━━━━━━━━━━━━━━━━━━━━\u001b[0m\u001b[37m\u001b[0m \u001b[1m0s\u001b[0m 25ms/step - loss: 0.1993 - mean_absolute_error: 0.3631 - val_loss: 0.2438 - val_mean_absolute_error: 0.4124\n",
      "Epoch 13/70\n",
      "\u001b[1m7/7\u001b[0m \u001b[32m━━━━━━━━━━━━━━━━━━━━\u001b[0m\u001b[37m\u001b[0m \u001b[1m0s\u001b[0m 19ms/step - loss: 0.1818 - mean_absolute_error: 0.3454 - val_loss: 0.2447 - val_mean_absolute_error: 0.4185\n",
      "Epoch 14/70\n",
      "\u001b[1m7/7\u001b[0m \u001b[32m━━━━━━━━━━━━━━━━━━━━\u001b[0m\u001b[37m\u001b[0m \u001b[1m0s\u001b[0m 44ms/step - loss: 0.2011 - mean_absolute_error: 0.3556 - val_loss: 0.2441 - val_mean_absolute_error: 0.4149\n",
      "Epoch 15/70\n",
      "\u001b[1m7/7\u001b[0m \u001b[32m━━━━━━━━━━━━━━━━━━━━\u001b[0m\u001b[37m\u001b[0m \u001b[1m0s\u001b[0m 28ms/step - loss: 0.1860 - mean_absolute_error: 0.3414 - val_loss: 0.2411 - val_mean_absolute_error: 0.4161\n",
      "Epoch 16/70\n",
      "\u001b[1m7/7\u001b[0m \u001b[32m━━━━━━━━━━━━━━━━━━━━\u001b[0m\u001b[37m\u001b[0m \u001b[1m0s\u001b[0m 27ms/step - loss: 0.1667 - mean_absolute_error: 0.3273 - val_loss: 0.2465 - val_mean_absolute_error: 0.4232\n",
      "Epoch 17/70\n",
      "\u001b[1m7/7\u001b[0m \u001b[32m━━━━━━━━━━━━━━━━━━━━\u001b[0m\u001b[37m\u001b[0m \u001b[1m0s\u001b[0m 26ms/step - loss: 0.1897 - mean_absolute_error: 0.3462 - val_loss: 0.2436 - val_mean_absolute_error: 0.4132\n",
      "Epoch 18/70\n",
      "\u001b[1m7/7\u001b[0m \u001b[32m━━━━━━━━━━━━━━━━━━━━\u001b[0m\u001b[37m\u001b[0m \u001b[1m0s\u001b[0m 26ms/step - loss: 0.1945 - mean_absolute_error: 0.3536 - val_loss: 0.2467 - val_mean_absolute_error: 0.4169\n",
      "Epoch 19/70\n",
      "\u001b[1m7/7\u001b[0m \u001b[32m━━━━━━━━━━━━━━━━━━━━\u001b[0m\u001b[37m\u001b[0m \u001b[1m0s\u001b[0m 26ms/step - loss: 0.1971 - mean_absolute_error: 0.3599 - val_loss: 0.2481 - val_mean_absolute_error: 0.4227\n",
      "Epoch 20/70\n",
      "\u001b[1m7/7\u001b[0m \u001b[32m━━━━━━━━━━━━━━━━━━━━\u001b[0m\u001b[37m\u001b[0m \u001b[1m0s\u001b[0m 26ms/step - loss: 0.1967 - mean_absolute_error: 0.3567 - val_loss: 0.2482 - val_mean_absolute_error: 0.4223\n",
      "Epoch 21/70\n",
      "\u001b[1m7/7\u001b[0m \u001b[32m━━━━━━━━━━━━━━━━━━━━\u001b[0m\u001b[37m\u001b[0m \u001b[1m0s\u001b[0m 27ms/step - loss: 0.1759 - mean_absolute_error: 0.3395 - val_loss: 0.2472 - val_mean_absolute_error: 0.4195\n",
      "Epoch 22/70\n",
      "\u001b[1m7/7\u001b[0m \u001b[32m━━━━━━━━━━━━━━━━━━━━\u001b[0m\u001b[37m\u001b[0m \u001b[1m0s\u001b[0m 24ms/step - loss: 0.1823 - mean_absolute_error: 0.3425 - val_loss: 0.2488 - val_mean_absolute_error: 0.4189\n",
      "Epoch 23/70\n",
      "\u001b[1m7/7\u001b[0m \u001b[32m━━━━━━━━━━━━━━━━━━━━\u001b[0m\u001b[37m\u001b[0m \u001b[1m0s\u001b[0m 27ms/step - loss: 0.1796 - mean_absolute_error: 0.3367 - val_loss: 0.2463 - val_mean_absolute_error: 0.4174\n",
      "Epoch 24/70\n",
      "\u001b[1m7/7\u001b[0m \u001b[32m━━━━━━━━━━━━━━━━━━━━\u001b[0m\u001b[37m\u001b[0m \u001b[1m0s\u001b[0m 30ms/step - loss: 0.1981 - mean_absolute_error: 0.3590 - val_loss: 0.2491 - val_mean_absolute_error: 0.4256\n",
      "Epoch 25/70\n",
      "\u001b[1m7/7\u001b[0m \u001b[32m━━━━━━━━━━━━━━━━━━━━\u001b[0m\u001b[37m\u001b[0m \u001b[1m0s\u001b[0m 21ms/step - loss: 0.2011 - mean_absolute_error: 0.3560 - val_loss: 0.2527 - val_mean_absolute_error: 0.4300\n",
      "Epoch 26/70\n",
      "\u001b[1m7/7\u001b[0m \u001b[32m━━━━━━━━━━━━━━━━━━━━\u001b[0m\u001b[37m\u001b[0m \u001b[1m0s\u001b[0m 20ms/step - loss: 0.1750 - mean_absolute_error: 0.3309 - val_loss: 0.2497 - val_mean_absolute_error: 0.4208\n",
      "Epoch 27/70\n",
      "\u001b[1m7/7\u001b[0m \u001b[32m━━━━━━━━━━━━━━━━━━━━\u001b[0m\u001b[37m\u001b[0m \u001b[1m0s\u001b[0m 29ms/step - loss: 0.1775 - mean_absolute_error: 0.3343 - val_loss: 0.2511 - val_mean_absolute_error: 0.4294\n",
      "Epoch 28/70\n",
      "\u001b[1m7/7\u001b[0m \u001b[32m━━━━━━━━━━━━━━━━━━━━\u001b[0m\u001b[37m\u001b[0m \u001b[1m0s\u001b[0m 27ms/step - loss: 0.1849 - mean_absolute_error: 0.3455 - val_loss: 0.2497 - val_mean_absolute_error: 0.4288\n",
      "Epoch 29/70\n",
      "\u001b[1m7/7\u001b[0m \u001b[32m━━━━━━━━━━━━━━━━━━━━\u001b[0m\u001b[37m\u001b[0m \u001b[1m0s\u001b[0m 20ms/step - loss: 0.1876 - mean_absolute_error: 0.3519 - val_loss: 0.2442 - val_mean_absolute_error: 0.4173\n",
      "Epoch 30/70\n",
      "\u001b[1m7/7\u001b[0m \u001b[32m━━━━━━━━━━━━━━━━━━━━\u001b[0m\u001b[37m\u001b[0m \u001b[1m0s\u001b[0m 27ms/step - loss: 0.1693 - mean_absolute_error: 0.3290 - val_loss: 0.2455 - val_mean_absolute_error: 0.4191\n",
      "Epoch 31/70\n",
      "\u001b[1m7/7\u001b[0m \u001b[32m━━━━━━━━━━━━━━━━━━━━\u001b[0m\u001b[37m\u001b[0m \u001b[1m0s\u001b[0m 29ms/step - loss: 0.1790 - mean_absolute_error: 0.3363 - val_loss: 0.2509 - val_mean_absolute_error: 0.4284\n",
      "Epoch 32/70\n",
      "\u001b[1m7/7\u001b[0m \u001b[32m━━━━━━━━━━━━━━━━━━━━\u001b[0m\u001b[37m\u001b[0m \u001b[1m0s\u001b[0m 27ms/step - loss: 0.2014 - mean_absolute_error: 0.3566 - val_loss: 0.2509 - val_mean_absolute_error: 0.4221\n",
      "Epoch 33/70\n",
      "\u001b[1m7/7\u001b[0m \u001b[32m━━━━━━━━━━━━━━━━━━━━\u001b[0m\u001b[37m\u001b[0m \u001b[1m0s\u001b[0m 19ms/step - loss: 0.1757 - mean_absolute_error: 0.3399 - val_loss: 0.2543 - val_mean_absolute_error: 0.4357\n",
      "Epoch 34/70\n",
      "\u001b[1m7/7\u001b[0m \u001b[32m━━━━━━━━━━━━━━━━━━━━\u001b[0m\u001b[37m\u001b[0m \u001b[1m0s\u001b[0m 27ms/step - loss: 0.1639 - mean_absolute_error: 0.3266 - val_loss: 0.2517 - val_mean_absolute_error: 0.4250\n",
      "Epoch 35/70\n",
      "\u001b[1m7/7\u001b[0m \u001b[32m━━━━━━━━━━━━━━━━━━━━\u001b[0m\u001b[37m\u001b[0m \u001b[1m0s\u001b[0m 28ms/step - loss: 0.1729 - mean_absolute_error: 0.3370 - val_loss: 0.2559 - val_mean_absolute_error: 0.4215\n",
      "Epoch 36/70\n",
      "\u001b[1m7/7\u001b[0m \u001b[32m━━━━━━━━━━━━━━━━━━━━\u001b[0m\u001b[37m\u001b[0m \u001b[1m0s\u001b[0m 34ms/step - loss: 0.1766 - mean_absolute_error: 0.3381 - val_loss: 0.2645 - val_mean_absolute_error: 0.4421\n",
      "Epoch 37/70\n",
      "\u001b[1m7/7\u001b[0m \u001b[32m━━━━━━━━━━━━━━━━━━━━\u001b[0m\u001b[37m\u001b[0m \u001b[1m0s\u001b[0m 33ms/step - loss: 0.1692 - mean_absolute_error: 0.3280 - val_loss: 0.2585 - val_mean_absolute_error: 0.4328\n",
      "Epoch 38/70\n",
      "\u001b[1m7/7\u001b[0m \u001b[32m━━━━━━━━━━━━━━━━━━━━\u001b[0m\u001b[37m\u001b[0m \u001b[1m0s\u001b[0m 19ms/step - loss: 0.1799 - mean_absolute_error: 0.3367 - val_loss: 0.2521 - val_mean_absolute_error: 0.4226\n",
      "Epoch 39/70\n",
      "\u001b[1m7/7\u001b[0m \u001b[32m━━━━━━━━━━━━━━━━━━━━\u001b[0m\u001b[37m\u001b[0m \u001b[1m0s\u001b[0m 27ms/step - loss: 0.1771 - mean_absolute_error: 0.3370 - val_loss: 0.2525 - val_mean_absolute_error: 0.4300\n",
      "Epoch 40/70\n",
      "\u001b[1m7/7\u001b[0m \u001b[32m━━━━━━━━━━━━━━━━━━━━\u001b[0m\u001b[37m\u001b[0m \u001b[1m0s\u001b[0m 27ms/step - loss: 0.1672 - mean_absolute_error: 0.3299 - val_loss: 0.2590 - val_mean_absolute_error: 0.4374\n",
      "Epoch 41/70\n",
      "\u001b[1m7/7\u001b[0m \u001b[32m━━━━━━━━━━━━━━━━━━━━\u001b[0m\u001b[37m\u001b[0m \u001b[1m0s\u001b[0m 28ms/step - loss: 0.1551 - mean_absolute_error: 0.3169 - val_loss: 0.2632 - val_mean_absolute_error: 0.4346\n",
      "Epoch 42/70\n",
      "\u001b[1m7/7\u001b[0m \u001b[32m━━━━━━━━━━━━━━━━━━━━\u001b[0m\u001b[37m\u001b[0m \u001b[1m0s\u001b[0m 20ms/step - loss: 0.1789 - mean_absolute_error: 0.3366 - val_loss: 0.2638 - val_mean_absolute_error: 0.4407\n",
      "Epoch 43/70\n",
      "\u001b[1m7/7\u001b[0m \u001b[32m━━━━━━━━━━━━━━━━━━━━\u001b[0m\u001b[37m\u001b[0m \u001b[1m0s\u001b[0m 29ms/step - loss: 0.1646 - mean_absolute_error: 0.3193 - val_loss: 0.2576 - val_mean_absolute_error: 0.4265\n",
      "Epoch 44/70\n",
      "\u001b[1m7/7\u001b[0m \u001b[32m━━━━━━━━━━━━━━━━━━━━\u001b[0m\u001b[37m\u001b[0m \u001b[1m0s\u001b[0m 28ms/step - loss: 0.1640 - mean_absolute_error: 0.3213 - val_loss: 0.2589 - val_mean_absolute_error: 0.4339\n",
      "Epoch 45/70\n",
      "\u001b[1m7/7\u001b[0m \u001b[32m━━━━━━━━━━━━━━━━━━━━\u001b[0m\u001b[37m\u001b[0m \u001b[1m0s\u001b[0m 28ms/step - loss: 0.1974 - mean_absolute_error: 0.3533 - val_loss: 0.2607 - val_mean_absolute_error: 0.4358\n",
      "Epoch 46/70\n",
      "\u001b[1m7/7\u001b[0m \u001b[32m━━━━━━━━━━━━━━━━━━━━\u001b[0m\u001b[37m\u001b[0m \u001b[1m0s\u001b[0m 21ms/step - loss: 0.1713 - mean_absolute_error: 0.3269 - val_loss: 0.2624 - val_mean_absolute_error: 0.4375\n",
      "Epoch 47/70\n",
      "\u001b[1m7/7\u001b[0m \u001b[32m━━━━━━━━━━━━━━━━━━━━\u001b[0m\u001b[37m\u001b[0m \u001b[1m0s\u001b[0m 22ms/step - loss: 0.1756 - mean_absolute_error: 0.3284 - val_loss: 0.2651 - val_mean_absolute_error: 0.4403\n",
      "Epoch 48/70\n",
      "\u001b[1m7/7\u001b[0m \u001b[32m━━━━━━━━━━━━━━━━━━━━\u001b[0m\u001b[37m\u001b[0m \u001b[1m0s\u001b[0m 27ms/step - loss: 0.1615 - mean_absolute_error: 0.3192 - val_loss: 0.2701 - val_mean_absolute_error: 0.4485\n",
      "Epoch 49/70\n",
      "\u001b[1m7/7\u001b[0m \u001b[32m━━━━━━━━━━━━━━━━━━━━\u001b[0m\u001b[37m\u001b[0m \u001b[1m0s\u001b[0m 30ms/step - loss: 0.1682 - mean_absolute_error: 0.3278 - val_loss: 0.2682 - val_mean_absolute_error: 0.4319\n",
      "Epoch 50/70\n",
      "\u001b[1m7/7\u001b[0m \u001b[32m━━━━━━━━━━━━━━━━━━━━\u001b[0m\u001b[37m\u001b[0m \u001b[1m0s\u001b[0m 19ms/step - loss: 0.1762 - mean_absolute_error: 0.3318 - val_loss: 0.2668 - val_mean_absolute_error: 0.4434\n",
      "Epoch 51/70\n",
      "\u001b[1m7/7\u001b[0m \u001b[32m━━━━━━━━━━━━━━━━━━━━\u001b[0m\u001b[37m\u001b[0m \u001b[1m0s\u001b[0m 26ms/step - loss: 0.1725 - mean_absolute_error: 0.3268 - val_loss: 0.2636 - val_mean_absolute_error: 0.4386\n",
      "Epoch 52/70\n",
      "\u001b[1m7/7\u001b[0m \u001b[32m━━━━━━━━━━━━━━━━━━━━\u001b[0m\u001b[37m\u001b[0m \u001b[1m0s\u001b[0m 25ms/step - loss: 0.1517 - mean_absolute_error: 0.3099 - val_loss: 0.2685 - val_mean_absolute_error: 0.4395\n",
      "Epoch 53/70\n",
      "\u001b[1m7/7\u001b[0m \u001b[32m━━━━━━━━━━━━━━━━━━━━\u001b[0m\u001b[37m\u001b[0m \u001b[1m0s\u001b[0m 32ms/step - loss: 0.1661 - mean_absolute_error: 0.3200 - val_loss: 0.2748 - val_mean_absolute_error: 0.4458\n",
      "Epoch 54/70\n",
      "\u001b[1m7/7\u001b[0m \u001b[32m━━━━━━━━━━━━━━━━━━━━\u001b[0m\u001b[37m\u001b[0m \u001b[1m0s\u001b[0m 39ms/step - loss: 0.1651 - mean_absolute_error: 0.3175 - val_loss: 0.2769 - val_mean_absolute_error: 0.4508\n",
      "Epoch 55/70\n",
      "\u001b[1m7/7\u001b[0m \u001b[32m━━━━━━━━━━━━━━━━━━━━\u001b[0m\u001b[37m\u001b[0m \u001b[1m0s\u001b[0m 15ms/step - loss: 0.1613 - mean_absolute_error: 0.3150 - val_loss: 0.2728 - val_mean_absolute_error: 0.4404\n",
      "Epoch 56/70\n",
      "\u001b[1m7/7\u001b[0m \u001b[32m━━━━━━━━━━━━━━━━━━━━\u001b[0m\u001b[37m\u001b[0m \u001b[1m0s\u001b[0m 15ms/step - loss: 0.1542 - mean_absolute_error: 0.3116 - val_loss: 0.2711 - val_mean_absolute_error: 0.4444\n",
      "Epoch 57/70\n",
      "\u001b[1m7/7\u001b[0m \u001b[32m━━━━━━━━━━━━━━━━━━━━\u001b[0m\u001b[37m\u001b[0m \u001b[1m0s\u001b[0m 15ms/step - loss: 0.1620 - mean_absolute_error: 0.3225 - val_loss: 0.2742 - val_mean_absolute_error: 0.4458\n",
      "Epoch 58/70\n",
      "\u001b[1m7/7\u001b[0m \u001b[32m━━━━━━━━━━━━━━━━━━━━\u001b[0m\u001b[37m\u001b[0m \u001b[1m0s\u001b[0m 17ms/step - loss: 0.1639 - mean_absolute_error: 0.3210 - val_loss: 0.2735 - val_mean_absolute_error: 0.4394\n",
      "Epoch 59/70\n",
      "\u001b[1m7/7\u001b[0m \u001b[32m━━━━━━━━━━━━━━━━━━━━\u001b[0m\u001b[37m\u001b[0m \u001b[1m0s\u001b[0m 14ms/step - loss: 0.1650 - mean_absolute_error: 0.3263 - val_loss: 0.2770 - val_mean_absolute_error: 0.4487\n",
      "Epoch 60/70\n",
      "\u001b[1m7/7\u001b[0m \u001b[32m━━━━━━━━━━━━━━━━━━━━\u001b[0m\u001b[37m\u001b[0m \u001b[1m0s\u001b[0m 14ms/step - loss: 0.1667 - mean_absolute_error: 0.3223 - val_loss: 0.2779 - val_mean_absolute_error: 0.4455\n",
      "Epoch 61/70\n",
      "\u001b[1m7/7\u001b[0m \u001b[32m━━━━━━━━━━━━━━━━━━━━\u001b[0m\u001b[37m\u001b[0m \u001b[1m0s\u001b[0m 14ms/step - loss: 0.1594 - mean_absolute_error: 0.3165 - val_loss: 0.2733 - val_mean_absolute_error: 0.4394\n",
      "Epoch 62/70\n",
      "\u001b[1m7/7\u001b[0m \u001b[32m━━━━━━━━━━━━━━━━━━━━\u001b[0m\u001b[37m\u001b[0m \u001b[1m0s\u001b[0m 14ms/step - loss: 0.1503 - mean_absolute_error: 0.3059 - val_loss: 0.2749 - val_mean_absolute_error: 0.4450\n",
      "Epoch 63/70\n",
      "\u001b[1m7/7\u001b[0m \u001b[32m━━━━━━━━━━━━━━━━━━━━\u001b[0m\u001b[37m\u001b[0m \u001b[1m0s\u001b[0m 14ms/step - loss: 0.1580 - mean_absolute_error: 0.3167 - val_loss: 0.2802 - val_mean_absolute_error: 0.4495\n",
      "Epoch 64/70\n",
      "\u001b[1m7/7\u001b[0m \u001b[32m━━━━━━━━━━━━━━━━━━━━\u001b[0m\u001b[37m\u001b[0m \u001b[1m0s\u001b[0m 14ms/step - loss: 0.1781 - mean_absolute_error: 0.3398 - val_loss: 0.2820 - val_mean_absolute_error: 0.4459\n",
      "Epoch 65/70\n",
      "\u001b[1m7/7\u001b[0m \u001b[32m━━━━━━━━━━━━━━━━━━━━\u001b[0m\u001b[37m\u001b[0m \u001b[1m0s\u001b[0m 15ms/step - loss: 0.1633 - mean_absolute_error: 0.3186 - val_loss: 0.2741 - val_mean_absolute_error: 0.4476\n",
      "Epoch 66/70\n",
      "\u001b[1m7/7\u001b[0m \u001b[32m━━━━━━━━━━━━━━━━━━━━\u001b[0m\u001b[37m\u001b[0m \u001b[1m0s\u001b[0m 15ms/step - loss: 0.1746 - mean_absolute_error: 0.3317 - val_loss: 0.2741 - val_mean_absolute_error: 0.4416\n",
      "Epoch 67/70\n",
      "\u001b[1m7/7\u001b[0m \u001b[32m━━━━━━━━━━━━━━━━━━━━\u001b[0m\u001b[37m\u001b[0m \u001b[1m0s\u001b[0m 14ms/step - loss: 0.1609 - mean_absolute_error: 0.3165 - val_loss: 0.2805 - val_mean_absolute_error: 0.4498\n",
      "Epoch 68/70\n",
      "\u001b[1m7/7\u001b[0m \u001b[32m━━━━━━━━━━━━━━━━━━━━\u001b[0m\u001b[37m\u001b[0m \u001b[1m0s\u001b[0m 15ms/step - loss: 0.1553 - mean_absolute_error: 0.3160 - val_loss: 0.2809 - val_mean_absolute_error: 0.4501\n",
      "Epoch 69/70\n",
      "\u001b[1m7/7\u001b[0m \u001b[32m━━━━━━━━━━━━━━━━━━━━\u001b[0m\u001b[37m\u001b[0m \u001b[1m0s\u001b[0m 35ms/step - loss: 0.1608 - mean_absolute_error: 0.3133 - val_loss: 0.2910 - val_mean_absolute_error: 0.4552\n",
      "Epoch 70/70\n",
      "\u001b[1m7/7\u001b[0m \u001b[32m━━━━━━━━━━━━━━━━━━━━\u001b[0m\u001b[37m\u001b[0m \u001b[1m0s\u001b[0m 15ms/step - loss: 0.1657 - mean_absolute_error: 0.3274 - val_loss: 0.2894 - val_mean_absolute_error: 0.4482\n"
     ]
    }
   ],
   "source": [
    "ANN=model.fit(x_train, y_train,validation_split=0.2,batch_size=50,epochs=70)"
   ]
  },
  {
   "cell_type": "code",
   "execution_count": 135,
   "id": "029e5a6d",
   "metadata": {},
   "outputs": [
    {
     "data": {
      "text/html": [
       "<pre style=\"white-space:pre;overflow-x:auto;line-height:normal;font-family:Menlo,'DejaVu Sans Mono',consolas,'Courier New',monospace\"><span style=\"font-weight: bold\">Model: \"sequential_3\"</span>\n",
       "</pre>\n"
      ],
      "text/plain": [
       "\u001b[1mModel: \"sequential_3\"\u001b[0m\n"
      ]
     },
     "metadata": {},
     "output_type": "display_data"
    },
    {
     "data": {
      "text/html": [
       "<pre style=\"white-space:pre;overflow-x:auto;line-height:normal;font-family:Menlo,'DejaVu Sans Mono',consolas,'Courier New',monospace\">┏━━━━━━━━━━━━━━━━━━━━━━━━━━━━━━━━━┳━━━━━━━━━━━━━━━━━━━━━━━━┳━━━━━━━━━━━━━━━┓\n",
       "┃<span style=\"font-weight: bold\"> Layer (type)                    </span>┃<span style=\"font-weight: bold\"> Output Shape           </span>┃<span style=\"font-weight: bold\">       Param # </span>┃\n",
       "┡━━━━━━━━━━━━━━━━━━━━━━━━━━━━━━━━━╇━━━━━━━━━━━━━━━━━━━━━━━━╇━━━━━━━━━━━━━━━┩\n",
       "│ dense_9 (<span style=\"color: #0087ff; text-decoration-color: #0087ff\">Dense</span>)                 │ (<span style=\"color: #00d7ff; text-decoration-color: #00d7ff\">None</span>, <span style=\"color: #00af00; text-decoration-color: #00af00\">10</span>)             │            <span style=\"color: #00af00; text-decoration-color: #00af00\">50</span> │\n",
       "├─────────────────────────────────┼────────────────────────┼───────────────┤\n",
       "│ dense_10 (<span style=\"color: #0087ff; text-decoration-color: #0087ff\">Dense</span>)                │ (<span style=\"color: #00d7ff; text-decoration-color: #00d7ff\">None</span>, <span style=\"color: #00af00; text-decoration-color: #00af00\">10</span>)             │           <span style=\"color: #00af00; text-decoration-color: #00af00\">110</span> │\n",
       "├─────────────────────────────────┼────────────────────────┼───────────────┤\n",
       "│ dense_11 (<span style=\"color: #0087ff; text-decoration-color: #0087ff\">Dense</span>)                │ (<span style=\"color: #00d7ff; text-decoration-color: #00d7ff\">None</span>, <span style=\"color: #00af00; text-decoration-color: #00af00\">1</span>)              │            <span style=\"color: #00af00; text-decoration-color: #00af00\">11</span> │\n",
       "└─────────────────────────────────┴────────────────────────┴───────────────┘\n",
       "</pre>\n"
      ],
      "text/plain": [
       "┏━━━━━━━━━━━━━━━━━━━━━━━━━━━━━━━━━┳━━━━━━━━━━━━━━━━━━━━━━━━┳━━━━━━━━━━━━━━━┓\n",
       "┃\u001b[1m \u001b[0m\u001b[1mLayer (type)                   \u001b[0m\u001b[1m \u001b[0m┃\u001b[1m \u001b[0m\u001b[1mOutput Shape          \u001b[0m\u001b[1m \u001b[0m┃\u001b[1m \u001b[0m\u001b[1m      Param #\u001b[0m\u001b[1m \u001b[0m┃\n",
       "┡━━━━━━━━━━━━━━━━━━━━━━━━━━━━━━━━━╇━━━━━━━━━━━━━━━━━━━━━━━━╇━━━━━━━━━━━━━━━┩\n",
       "│ dense_9 (\u001b[38;5;33mDense\u001b[0m)                 │ (\u001b[38;5;45mNone\u001b[0m, \u001b[38;5;34m10\u001b[0m)             │            \u001b[38;5;34m50\u001b[0m │\n",
       "├─────────────────────────────────┼────────────────────────┼───────────────┤\n",
       "│ dense_10 (\u001b[38;5;33mDense\u001b[0m)                │ (\u001b[38;5;45mNone\u001b[0m, \u001b[38;5;34m10\u001b[0m)             │           \u001b[38;5;34m110\u001b[0m │\n",
       "├─────────────────────────────────┼────────────────────────┼───────────────┤\n",
       "│ dense_11 (\u001b[38;5;33mDense\u001b[0m)                │ (\u001b[38;5;45mNone\u001b[0m, \u001b[38;5;34m1\u001b[0m)              │            \u001b[38;5;34m11\u001b[0m │\n",
       "└─────────────────────────────────┴────────────────────────┴───────────────┘\n"
      ]
     },
     "metadata": {},
     "output_type": "display_data"
    },
    {
     "data": {
      "text/html": [
       "<pre style=\"white-space:pre;overflow-x:auto;line-height:normal;font-family:Menlo,'DejaVu Sans Mono',consolas,'Courier New',monospace\"><span style=\"font-weight: bold\"> Total params: </span><span style=\"color: #00af00; text-decoration-color: #00af00\">515</span> (2.02 KB)\n",
       "</pre>\n"
      ],
      "text/plain": [
       "\u001b[1m Total params: \u001b[0m\u001b[38;5;34m515\u001b[0m (2.02 KB)\n"
      ]
     },
     "metadata": {},
     "output_type": "display_data"
    },
    {
     "data": {
      "text/html": [
       "<pre style=\"white-space:pre;overflow-x:auto;line-height:normal;font-family:Menlo,'DejaVu Sans Mono',consolas,'Courier New',monospace\"><span style=\"font-weight: bold\"> Trainable params: </span><span style=\"color: #00af00; text-decoration-color: #00af00\">171</span> (684.00 B)\n",
       "</pre>\n"
      ],
      "text/plain": [
       "\u001b[1m Trainable params: \u001b[0m\u001b[38;5;34m171\u001b[0m (684.00 B)\n"
      ]
     },
     "metadata": {},
     "output_type": "display_data"
    },
    {
     "data": {
      "text/html": [
       "<pre style=\"white-space:pre;overflow-x:auto;line-height:normal;font-family:Menlo,'DejaVu Sans Mono',consolas,'Courier New',monospace\"><span style=\"font-weight: bold\"> Non-trainable params: </span><span style=\"color: #00af00; text-decoration-color: #00af00\">0</span> (0.00 B)\n",
       "</pre>\n"
      ],
      "text/plain": [
       "\u001b[1m Non-trainable params: \u001b[0m\u001b[38;5;34m0\u001b[0m (0.00 B)\n"
      ]
     },
     "metadata": {},
     "output_type": "display_data"
    },
    {
     "data": {
      "text/html": [
       "<pre style=\"white-space:pre;overflow-x:auto;line-height:normal;font-family:Menlo,'DejaVu Sans Mono',consolas,'Courier New',monospace\"><span style=\"font-weight: bold\"> Optimizer params: </span><span style=\"color: #00af00; text-decoration-color: #00af00\">344</span> (1.35 KB)\n",
       "</pre>\n"
      ],
      "text/plain": [
       "\u001b[1m Optimizer params: \u001b[0m\u001b[38;5;34m344\u001b[0m (1.35 KB)\n"
      ]
     },
     "metadata": {},
     "output_type": "display_data"
    }
   ],
   "source": [
    "model.summary()"
   ]
  },
  {
   "cell_type": "code",
   "execution_count": 136,
   "id": "3da3696c",
   "metadata": {},
   "outputs": [
    {
     "data": {
      "text/plain": [
       "dict_keys(['loss', 'mean_absolute_error', 'val_loss', 'val_mean_absolute_error'])"
      ]
     },
     "execution_count": 136,
     "metadata": {},
     "output_type": "execute_result"
    }
   ],
   "source": [
    "ANN.history.keys()"
   ]
  },
  {
   "cell_type": "markdown",
   "id": "a6bb3969",
   "metadata": {},
   "source": [
    "##### summerize history of accuracy "
   ]
  },
  {
   "cell_type": "code",
   "execution_count": 137,
   "id": "dcb1f943",
   "metadata": {},
   "outputs": [
    {
     "data": {
      "text/plain": [
       "<matplotlib.legend.Legend at 0x134cf61b0>"
      ]
     },
     "execution_count": 137,
     "metadata": {},
     "output_type": "execute_result"
    },
    {
     "data": {
      "image/png": "[encoded data removed]",
      "text/plain": [
       "<Figure size 640x480 with 1 Axes>"
      ]
     },
     "metadata": {},
     "output_type": "display_data"
    }
   ],
   "source": [
    "plt.plot(ANN.history['mean_absolute_error'])\n",
    "plt.plot(ANN.history['val_mean_absolute_error'])\n",
    "plt.title('model_accuracy')\n",
    "plt.ylabel('accuarcy')\n",
    "plt.xlabel('epochs')\n",
    "plt.legend(['train','test'],loc='upper left')"
   ]
  },
  {
   "cell_type": "markdown",
   "id": "23841a2f",
   "metadata": {},
   "source": [
    "##### summerize history of loss "
   ]
  },
  {
   "cell_type": "code",
   "execution_count": 138,
   "id": "9f86b3e2",
   "metadata": {},
   "outputs": [
    {
     "data": {
      "text/plain": [
       "<matplotlib.legend.Legend at 0x13474e450>"
      ]
     },
     "execution_count": 138,
     "metadata": {},
     "output_type": "execute_result"
    },
    {
     "data": {
      "image/png": "[encoded data removed]",
      "text/plain": [
       "<Figure size 640x480 with 1 Axes>"
      ]
     },
     "metadata": {},
     "output_type": "display_data"
    }
   ],
   "source": [
    "plt.plot(ANN.history['loss'])\n",
    "plt.plot(ANN.history['val_loss'])\n",
    "plt.title('loss')\n",
    "plt.ylabel('loss')\n",
    "plt.xlabel('epochs')\n",
    "plt.legend(['train','test'],loc='upper left')"
   ]
  },
  {
   "cell_type": "markdown",
   "id": "dd65ecca",
   "metadata": {},
   "source": [
    "## Part= 4 pridiction"
   ]
  },
  {
   "cell_type": "code",
   "execution_count": 139,
   "id": "d514b810",
   "metadata": {},
   "outputs": [
    {
     "name": "stdout",
     "output_type": "stream",
     "text": [
      "\u001b[1m4/4\u001b[0m \u001b[32m━━━━━━━━━━━━━━━━━━━━\u001b[0m\u001b[37m\u001b[0m \u001b[1m0s\u001b[0m 38ms/step\n"
     ]
    }
   ],
   "source": [
    "y_pred=model.predict(x_test)"
   ]
  },
  {
   "cell_type": "code",
   "execution_count": 140,
   "id": "573cdc77",
   "metadata": {},
   "outputs": [
    {
     "data": {
      "text/plain": [
       "array([[ 0.03909953],\n",
       "       [-0.4948535 ],\n",
       "       [-0.95043886],\n",
       "       [ 0.7482742 ],\n",
       "       [ 0.3586085 ],\n",
       "       [-0.3691913 ],\n",
       "       [ 1.1254889 ],\n",
       "       [ 1.2096884 ],\n",
       "       [ 0.6598905 ],\n",
       "       [-0.3031981 ],\n",
       "       [-0.85701334],\n",
       "       [-0.629336  ],\n",
       "       [-0.16534598],\n",
       "       [ 0.31213856],\n",
       "       [ 0.3058312 ],\n",
       "       [-0.12762444],\n",
       "       [-0.83225656],\n",
       "       [-0.0262074 ],\n",
       "       [ 0.3403837 ],\n",
       "       [ 1.0768708 ],\n",
       "       [ 1.0868088 ],\n",
       "       [ 0.47071177],\n",
       "       [-0.15094732],\n",
       "       [ 0.31898028],\n",
       "       [-0.49693602],\n",
       "       [ 1.0507404 ],\n",
       "       [-0.10107253],\n",
       "       [ 0.4956931 ],\n",
       "       [ 0.05437431],\n",
       "       [ 0.58284026],\n",
       "       [ 1.7699634 ],\n",
       "       [-0.4718706 ],\n",
       "       [ 0.31060934],\n",
       "       [ 0.9022996 ],\n",
       "       [ 0.0917055 ],\n",
       "       [ 0.40764338],\n",
       "       [-0.23356445],\n",
       "       [-0.66510636],\n",
       "       [-0.42373395],\n",
       "       [ 0.31639376],\n",
       "       [ 0.16145255],\n",
       "       [ 0.42100942],\n",
       "       [ 0.18970877],\n",
       "       [-0.27268213],\n",
       "       [ 0.687924  ],\n",
       "       [-0.18459   ],\n",
       "       [-0.7435058 ],\n",
       "       [-1.0417224 ],\n",
       "       [ 0.20138945],\n",
       "       [-0.52610993],\n",
       "       [-0.01089422],\n",
       "       [-1.5373816 ],\n",
       "       [-1.5067589 ],\n",
       "       [ 0.4383915 ],\n",
       "       [ 1.5646179 ],\n",
       "       [-0.1810842 ],\n",
       "       [-0.16305666],\n",
       "       [ 0.02345057],\n",
       "       [-0.91518915],\n",
       "       [ 0.8444549 ],\n",
       "       [ 0.56017405],\n",
       "       [ 1.0369166 ],\n",
       "       [ 0.4318958 ],\n",
       "       [-1.5106035 ],\n",
       "       [ 1.0984371 ],\n",
       "       [ 0.3467322 ],\n",
       "       [-0.17076637],\n",
       "       [ 1.441136  ],\n",
       "       [ 0.6988853 ],\n",
       "       [ 0.91224205],\n",
       "       [ 0.09546705],\n",
       "       [-0.41150838],\n",
       "       [-1.5704596 ],\n",
       "       [-0.40849638],\n",
       "       [ 0.40238288],\n",
       "       [-0.3503415 ],\n",
       "       [ 0.5095778 ],\n",
       "       [ 0.12805167],\n",
       "       [ 2.1873615 ],\n",
       "       [ 0.07868743],\n",
       "       [-1.1565205 ],\n",
       "       [ 0.04794978],\n",
       "       [ 0.37747383],\n",
       "       [ 1.0659693 ],\n",
       "       [ 0.40206072],\n",
       "       [-0.9178077 ],\n",
       "       [-1.1034678 ],\n",
       "       [-0.8275189 ],\n",
       "       [ 0.52579737],\n",
       "       [ 0.25014374],\n",
       "       [-0.11723201],\n",
       "       [ 1.2712731 ],\n",
       "       [ 0.19887672],\n",
       "       [ 0.23397161],\n",
       "       [ 0.6722007 ],\n",
       "       [-0.6983296 ],\n",
       "       [-0.05448501],\n",
       "       [-1.1542362 ],\n",
       "       [-0.9962348 ],\n",
       "       [ 0.48278815]], dtype=float32)"
      ]
     },
     "execution_count": 140,
     "metadata": {},
     "output_type": "execute_result"
    }
   ],
   "source": [
    "y_pred"
   ]
  },
  {
   "cell_type": "code",
   "execution_count": 141,
   "id": "d89fcb91",
   "metadata": {},
   "outputs": [],
   "source": [
    "from sklearn.metrics import r2_score\n",
    "score=r2_score(y_test,y_pred)"
   ]
  },
  {
   "cell_type": "code",
   "execution_count": 142,
   "id": "33770c80",
   "metadata": {},
   "outputs": [
    {
     "data": {
      "text/plain": [
       "66.81126402219071"
      ]
     },
     "execution_count": 142,
     "metadata": {},
     "output_type": "execute_result"
    }
   ],
   "source": [
    "score*100"
   ]
  },
  {
   "cell_type": "code",
   "execution_count": null,
   "id": "31583848-ce4b-4ece-a2b3-b4a40b030944",
   "metadata": {},
   "outputs": [],
   "source": [
    "# this project is completed by UZAIR FAYAZ"
   ]
  }
 ],
 "metadata": {
  "kernelspec": {
   "display_name": "Python 3 (ipykernel)",
   "language": "python",
   "name": "python3"
  },
  "language_info": {
   "codemirror_mode": {
    "name": "ipython",
    "version": 3
   },
   "file_extension": ".py",
   "mimetype": "text/x-python",
   "name": "python",
   "nbconvert_exporter": "python",
   "pygments_lexer": "ipython3",
   "version": "3.12.4"
  }
 },
 "nbformat": 4,
 "nbformat_minor": 5
}
